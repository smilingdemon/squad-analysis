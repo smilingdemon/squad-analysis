{
 "cells": [
  {
   "cell_type": "code",
   "execution_count": 131,
   "id": "2afb08fd",
   "metadata": {},
   "outputs": [],
   "source": [
    "# import required packages-\n",
    "\n",
    "import pandas as pd\n",
    "import datetime\n",
    "import matplotlib.pyplot as plt\n",
    "import matplotlib.patches\n",
    "from mplsoccer import VerticalPitch"
   ]
  },
  {
   "cell_type": "code",
   "execution_count": 78,
   "id": "8897ac65",
   "metadata": {},
   "outputs": [],
   "source": [
    "# Set input paramaters such as titles, colours and squad file.abs\n",
    "\n",
    "team_name = \"Aberdeen\"\n",
    "\n",
    "season_start = 2025\n",
    "\n",
    "squadfile = 'aberdeen.csv'\n",
    "\n",
    "formation ='4231' # set formation to match formations available in mplsoccer library which can be found here: https://mplsoccer.readthedocs.io/en/latest/gallery/pitch_plots/plot_formations.html\n",
    "\n",
    "colours = {\n",
    "    \"cl_background\":\"#000000\",\n",
    "    \"cl_foreground\":\"#FFFFFF\",\n",
    "    \"cl_secondary\":\"#999999\",\n",
    "    \"cl_alt_1\":\"#6B0F1A\",\n",
    "    \"cl_alt_2\":\"#3A86FF\",\n",
    "    \"cl_alt_3\":\"#FFBE0B\",\n",
    "    \"cl_alt_4\":\"#3EC300\",\n",
    "    \"cl_alt_5\":\"#595959\"}\n",
    "\n",
    "\n",
    "title = team_name + \"'s squad depth for season starting \" + str(season_start) + \" at current date: \" + datetime.datetime.now().strftime(\"%d/%m/%Y\")\n",
    "subtitle = \"Primary position expected for season starting 2025\""
   ]
  },
  {
   "cell_type": "code",
   "execution_count": 8,
   "id": "761cee24",
   "metadata": {},
   "outputs": [
    {
     "data": {
      "text/html": [
       "<div>\n",
       "<style scoped>\n",
       "    .dataframe tbody tr th:only-of-type {\n",
       "        vertical-align: middle;\n",
       "    }\n",
       "\n",
       "    .dataframe tbody tr th {\n",
       "        vertical-align: top;\n",
       "    }\n",
       "\n",
       "    .dataframe thead th {\n",
       "        text-align: right;\n",
       "    }\n",
       "</style>\n",
       "<table border=\"1\" class=\"dataframe\">\n",
       "  <thead>\n",
       "    <tr style=\"text-align: right;\">\n",
       "      <th></th>\n",
       "      <th>First Name</th>\n",
       "      <th>Last Name</th>\n",
       "      <th>Date of Birth</th>\n",
       "      <th>Position</th>\n",
       "      <th>Contract Expiry</th>\n",
       "      <th>Status</th>\n",
       "    </tr>\n",
       "  </thead>\n",
       "  <tbody>\n",
       "    <tr>\n",
       "      <th>0</th>\n",
       "      <td>Dimitar</td>\n",
       "      <td>Mitov</td>\n",
       "      <td>22/01/1997</td>\n",
       "      <td>GK</td>\n",
       "      <td>2027</td>\n",
       "      <td>N</td>\n",
       "    </tr>\n",
       "    <tr>\n",
       "      <th>1</th>\n",
       "      <td>Ross</td>\n",
       "      <td>Doohan</td>\n",
       "      <td>29/03/1998</td>\n",
       "      <td>GK</td>\n",
       "      <td>2025</td>\n",
       "      <td>N</td>\n",
       "    </tr>\n",
       "    <tr>\n",
       "      <th>2</th>\n",
       "      <td>Tom</td>\n",
       "      <td>Ritchie</td>\n",
       "      <td>27/01/2003</td>\n",
       "      <td>GK</td>\n",
       "      <td>2025</td>\n",
       "      <td>N</td>\n",
       "    </tr>\n",
       "    <tr>\n",
       "      <th>3</th>\n",
       "      <td>Kristers</td>\n",
       "      <td>Tobers</td>\n",
       "      <td>13/12/2000</td>\n",
       "      <td>CB</td>\n",
       "      <td>2028</td>\n",
       "      <td>N</td>\n",
       "    </tr>\n",
       "    <tr>\n",
       "      <th>4</th>\n",
       "      <td>Alfie</td>\n",
       "      <td>Dorrington</td>\n",
       "      <td>20/04/2005</td>\n",
       "      <td>CB</td>\n",
       "      <td>2025</td>\n",
       "      <td>I</td>\n",
       "    </tr>\n",
       "  </tbody>\n",
       "</table>\n",
       "</div>"
      ],
      "text/plain": [
       "  First Name   Last Name Date of Birth Position  Contract Expiry Status\n",
       "0    Dimitar       Mitov    22/01/1997       GK             2027      N\n",
       "1       Ross      Doohan    29/03/1998       GK             2025      N\n",
       "2        Tom     Ritchie    27/01/2003       GK             2025      N\n",
       "3   Kristers      Tobers    13/12/2000       CB             2028      N\n",
       "4      Alfie  Dorrington    20/04/2005       CB             2025      I"
      ]
     },
     "execution_count": 8,
     "metadata": {},
     "output_type": "execute_result"
    }
   ],
   "source": [
    "# read in and dispaly header of squad csv file\n",
    "\n",
    "squad = pd.read_csv(squadfile)\n",
    "\n",
    "squad.head()"
   ]
  },
  {
   "cell_type": "code",
   "execution_count": 47,
   "id": "677b0453",
   "metadata": {},
   "outputs": [],
   "source": [
    "def calculate_age(born, season_start):\n",
    "    #born_date = pd.to_datetime(born)\n",
    "    start_date = datetime.datetime(season_start, 8,1)\n",
    "    age = start_date.year - born_date.year - ((start_date.month, start_date.day) < (born_date.month, born_date.day))\n",
    "    return age"
   ]
  },
  {
   "cell_type": "code",
   "execution_count": 54,
   "id": "f93b204f",
   "metadata": {},
   "outputs": [],
   "source": [
    "# Calcualte age and contract length at start of season in question\n",
    "\n",
    "squad[\"Date of Birth\"] = pd.to_datetime(squad[\"Date of Birth\"])\n",
    "squad[\"Age\"] = calculate_age(squad[\"Date of Birth\"],season_start)\n",
    "squad[\"Years Remaining\"] = squad[\"Contract Expiry\"] - season_start"
   ]
  },
  {
   "cell_type": "code",
   "execution_count": 73,
   "id": "c31abb67",
   "metadata": {},
   "outputs": [],
   "source": [
    "# Setup pitch\n",
    "\n",
    "pitch = VerticalPitch(\n",
    "    pitch_type='opta',\n",
    "    goal_type='box', \n",
    "    half=False, \n",
    "    pitch_color=colours[\"cl_background\"], \n",
    "    line_color=colours[\"cl_foreground\"],\n",
    "    linewidth=.75\n",
    "    )\n"
   ]
  },
  {
   "cell_type": "code",
   "execution_count": null,
   "id": "188cab29",
   "metadata": {},
   "outputs": [
    {
     "ename": "AttributeError",
     "evalue": "FancyBboxPatch.set() got an unexpected keyword argument 'ha'",
     "output_type": "error",
     "traceback": [
      "\u001b[31m---------------------------------------------------------------------------\u001b[39m",
      "\u001b[31mAttributeError\u001b[39m                            Traceback (most recent call last)",
      "\u001b[36mCell\u001b[39m\u001b[36m \u001b[39m\u001b[32mIn[133]\u001b[39m\u001b[32m, line 12\u001b[39m\n\u001b[32m      9\u001b[39m pitch.draw(ax=ax2)\n\u001b[32m     11\u001b[39m \u001b[38;5;28;01mfor\u001b[39;00m row \u001b[38;5;129;01min\u001b[39;00m pitch.formations_dataframe[pitch.formations_dataframe[\u001b[33m\"\u001b[39m\u001b[33mformation\u001b[39m\u001b[33m\"\u001b[39m]==formation].iterrows():\n\u001b[32m---> \u001b[39m\u001b[32m12\u001b[39m     \u001b[43max2\u001b[49m\u001b[43m.\u001b[49m\u001b[43mtext\u001b[49m\u001b[43m(\u001b[49m\n\u001b[32m     13\u001b[39m \u001b[43m            \u001b[49m\u001b[43mx\u001b[49m\u001b[43m=\u001b[49m\u001b[43mrow\u001b[49m\u001b[43m[\u001b[49m\u001b[32;43m1\u001b[39;49m\u001b[43m]\u001b[49m\u001b[43m[\u001b[49m\u001b[33;43m\"\u001b[39;49m\u001b[33;43my\u001b[39;49m\u001b[33;43m\"\u001b[39;49m\u001b[43m]\u001b[49m\u001b[43m,\u001b[49m\n\u001b[32m     14\u001b[39m \u001b[43m            \u001b[49m\u001b[43my\u001b[49m\u001b[43m=\u001b[49m\u001b[43mrow\u001b[49m\u001b[43m[\u001b[49m\u001b[32;43m1\u001b[39;49m\u001b[43m]\u001b[49m\u001b[43m[\u001b[49m\u001b[33;43m\"\u001b[39;49m\u001b[33;43mx\u001b[39;49m\u001b[33;43m\"\u001b[39;49m\u001b[43m]\u001b[49m\u001b[43m,\u001b[49m\n\u001b[32m     15\u001b[39m \u001b[43m            \u001b[49m\u001b[43ms\u001b[49m\u001b[43m=\u001b[49m\u001b[43mrow\u001b[49m\u001b[43m[\u001b[49m\u001b[32;43m1\u001b[39;49m\u001b[43m]\u001b[49m\u001b[43m[\u001b[49m\u001b[33;43m\"\u001b[39;49m\u001b[33;43mname\u001b[39;49m\u001b[33;43m\"\u001b[39;49m\u001b[43m]\u001b[49m\u001b[43m,\u001b[49m\n\u001b[32m     16\u001b[39m \u001b[43m            \u001b[49m\u001b[43mbbox\u001b[49m\u001b[43m=\u001b[49m\u001b[38;5;28;43mdict\u001b[39;49m\u001b[43m(\u001b[49m\u001b[43mboxstyle\u001b[49m\u001b[43m=\u001b[49m\u001b[33;43m\"\u001b[39;49m\u001b[33;43mround\u001b[39;49m\u001b[33;43m\"\u001b[39;49m\u001b[43m,\u001b[49m\u001b[43m \u001b[49m\u001b[43mfc\u001b[49m\u001b[43m=\u001b[49m\u001b[43mcolours\u001b[49m\u001b[43m[\u001b[49m\u001b[33;43m\"\u001b[39;49m\u001b[33;43mcl_alt_1\u001b[39;49m\u001b[33;43m\"\u001b[39;49m\u001b[43m]\u001b[49m\u001b[43m,\u001b[49m\u001b[43m \u001b[49m\u001b[43mcolor\u001b[49m\u001b[43m=\u001b[49m\u001b[43mcolours\u001b[49m\u001b[43m[\u001b[49m\u001b[33;43m\"\u001b[39;49m\u001b[33;43mcl_foreground\u001b[39;49m\u001b[33;43m\"\u001b[39;49m\u001b[43m]\u001b[49m\u001b[43m,\u001b[49m\n\u001b[32m     17\u001b[39m \u001b[43m            \u001b[49m\u001b[43mha\u001b[49m\u001b[43m=\u001b[49m\u001b[33;43m'\u001b[39;49m\u001b[33;43mcenter\u001b[39;49m\u001b[33;43m'\u001b[39;49m\u001b[43m,\u001b[49m\u001b[43m)\u001b[49m\n\u001b[32m     18\u001b[39m \u001b[43m        \u001b[49m\u001b[43m)\u001b[49m\n\u001b[32m     20\u001b[39m ax_scatter = pitch.formation(formation, kind=\u001b[33m'\u001b[39m\u001b[33mscatter\u001b[39m\u001b[33m'\u001b[39m, c=colours[\u001b[33m\"\u001b[39m\u001b[33mcl_alt_3\u001b[39m\u001b[33m\"\u001b[39m], ax=ax2)\n",
      "\u001b[36mFile \u001b[39m\u001b[32m~/Development/Python/Squad Analysis/squad-analysis/squad-analysis/lib/python3.12/site-packages/matplotlib/axes/_axes.py:710\u001b[39m, in \u001b[36mAxes.text\u001b[39m\u001b[34m(self, x, y, s, fontdict, **kwargs)\u001b[39m\n\u001b[32m    639\u001b[39m \u001b[38;5;250m\u001b[39m\u001b[33;03m\"\"\"\u001b[39;00m\n\u001b[32m    640\u001b[39m \u001b[33;03mAdd text to the Axes.\u001b[39;00m\n\u001b[32m    641\u001b[39m \n\u001b[32m   (...)\u001b[39m\u001b[32m    700\u001b[39m \u001b[33;03m    >>> text(x, y, s, bbox=dict(facecolor='red', alpha=0.5))\u001b[39;00m\n\u001b[32m    701\u001b[39m \u001b[33;03m\"\"\"\u001b[39;00m\n\u001b[32m    702\u001b[39m effective_kwargs = {\n\u001b[32m    703\u001b[39m     \u001b[33m'\u001b[39m\u001b[33mverticalalignment\u001b[39m\u001b[33m'\u001b[39m: \u001b[33m'\u001b[39m\u001b[33mbaseline\u001b[39m\u001b[33m'\u001b[39m,\n\u001b[32m    704\u001b[39m     \u001b[33m'\u001b[39m\u001b[33mhorizontalalignment\u001b[39m\u001b[33m'\u001b[39m: \u001b[33m'\u001b[39m\u001b[33mleft\u001b[39m\u001b[33m'\u001b[39m,\n\u001b[32m   (...)\u001b[39m\u001b[32m    708\u001b[39m     **kwargs,\n\u001b[32m    709\u001b[39m }\n\u001b[32m--> \u001b[39m\u001b[32m710\u001b[39m t = \u001b[43mmtext\u001b[49m\u001b[43m.\u001b[49m\u001b[43mText\u001b[49m\u001b[43m(\u001b[49m\u001b[43mx\u001b[49m\u001b[43m,\u001b[49m\u001b[43m \u001b[49m\u001b[43my\u001b[49m\u001b[43m,\u001b[49m\u001b[43m \u001b[49m\u001b[43mtext\u001b[49m\u001b[43m=\u001b[49m\u001b[43ms\u001b[49m\u001b[43m,\u001b[49m\u001b[43m \u001b[49m\u001b[43m*\u001b[49m\u001b[43m*\u001b[49m\u001b[43meffective_kwargs\u001b[49m\u001b[43m)\u001b[49m\n\u001b[32m    711\u001b[39m \u001b[38;5;28;01mif\u001b[39;00m t.get_clip_path() \u001b[38;5;129;01mis\u001b[39;00m \u001b[38;5;28;01mNone\u001b[39;00m:\n\u001b[32m    712\u001b[39m     t.set_clip_path(\u001b[38;5;28mself\u001b[39m.patch)\n",
      "\u001b[36mFile \u001b[39m\u001b[32m~/Development/Python/Squad Analysis/squad-analysis/squad-analysis/lib/python3.12/site-packages/matplotlib/text.py:155\u001b[39m, in \u001b[36mText.__init__\u001b[39m\u001b[34m(self, x, y, text, color, verticalalignment, horizontalalignment, multialignment, fontproperties, rotation, linespacing, rotation_mode, usetex, wrap, transform_rotates_text, parse_math, antialiased, **kwargs)\u001b[39m\n\u001b[32m    138\u001b[39m \u001b[38;5;28mself\u001b[39m._text = \u001b[33m'\u001b[39m\u001b[33m'\u001b[39m\n\u001b[32m    139\u001b[39m \u001b[38;5;28mself\u001b[39m._reset_visual_defaults(\n\u001b[32m    140\u001b[39m     text=text,\n\u001b[32m    141\u001b[39m     color=color,\n\u001b[32m   (...)\u001b[39m\u001b[32m    153\u001b[39m     antialiased=antialiased\n\u001b[32m    154\u001b[39m )\n\u001b[32m--> \u001b[39m\u001b[32m155\u001b[39m \u001b[38;5;28;43mself\u001b[39;49m\u001b[43m.\u001b[49m\u001b[43mupdate\u001b[49m\u001b[43m(\u001b[49m\u001b[43mkwargs\u001b[49m\u001b[43m)\u001b[49m\n",
      "\u001b[36mFile \u001b[39m\u001b[32m~/Development/Python/Squad Analysis/squad-analysis/squad-analysis/lib/python3.12/site-packages/matplotlib/text.py:207\u001b[39m, in \u001b[36mText.update\u001b[39m\u001b[34m(self, kwargs)\u001b[39m\n\u001b[32m    205\u001b[39m ret.extend(\u001b[38;5;28msuper\u001b[39m().update(kwargs))\n\u001b[32m    206\u001b[39m \u001b[38;5;28;01mif\u001b[39;00m bbox \u001b[38;5;129;01mis\u001b[39;00m \u001b[38;5;129;01mnot\u001b[39;00m sentinel:\n\u001b[32m--> \u001b[39m\u001b[32m207\u001b[39m     ret.append(\u001b[38;5;28;43mself\u001b[39;49m\u001b[43m.\u001b[49m\u001b[43mset_bbox\u001b[49m\u001b[43m(\u001b[49m\u001b[43mbbox\u001b[49m\u001b[43m)\u001b[49m)\n\u001b[32m    208\u001b[39m \u001b[38;5;28;01mreturn\u001b[39;00m ret\n",
      "\u001b[36mFile \u001b[39m\u001b[32m~/Development/Python/Squad Analysis/squad-analysis/squad-analysis/lib/python3.12/site-packages/matplotlib/text.py:542\u001b[39m, in \u001b[36mText.set_bbox\u001b[39m\u001b[34m(self, rectprops)\u001b[39m\n\u001b[32m    540\u001b[39m     \u001b[38;5;28;01mif\u001b[39;00m \u001b[38;5;28misinstance\u001b[39m(boxstyle, \u001b[38;5;28mstr\u001b[39m) \u001b[38;5;129;01mand\u001b[39;00m \u001b[33m\"\u001b[39m\u001b[33mpad\u001b[39m\u001b[33m\"\u001b[39m \u001b[38;5;129;01mnot\u001b[39;00m \u001b[38;5;129;01min\u001b[39;00m boxstyle:\n\u001b[32m    541\u001b[39m         boxstyle += \u001b[33m\"\u001b[39m\u001b[33m,pad=\u001b[39m\u001b[38;5;132;01m%0.2f\u001b[39;00m\u001b[33m\"\u001b[39m % pad\n\u001b[32m--> \u001b[39m\u001b[32m542\u001b[39m     \u001b[38;5;28mself\u001b[39m._bbox_patch = \u001b[43mFancyBboxPatch\u001b[49m\u001b[43m(\u001b[49m\n\u001b[32m    543\u001b[39m \u001b[43m        \u001b[49m\u001b[43m(\u001b[49m\u001b[32;43m0\u001b[39;49m\u001b[43m,\u001b[49m\u001b[43m \u001b[49m\u001b[32;43m0\u001b[39;49m\u001b[43m)\u001b[49m\u001b[43m,\u001b[49m\u001b[43m \u001b[49m\u001b[32;43m1\u001b[39;49m\u001b[43m,\u001b[49m\u001b[43m \u001b[49m\u001b[32;43m1\u001b[39;49m\u001b[43m,\u001b[49m\n\u001b[32m    544\u001b[39m \u001b[43m        \u001b[49m\u001b[43mboxstyle\u001b[49m\u001b[43m=\u001b[49m\u001b[43mboxstyle\u001b[49m\u001b[43m,\u001b[49m\u001b[43m \u001b[49m\u001b[43mtransform\u001b[49m\u001b[43m=\u001b[49m\u001b[43mIdentityTransform\u001b[49m\u001b[43m(\u001b[49m\u001b[43m)\u001b[49m\u001b[43m,\u001b[49m\u001b[43m \u001b[49m\u001b[43m*\u001b[49m\u001b[43m*\u001b[49m\u001b[43mprops\u001b[49m\u001b[43m)\u001b[49m\n\u001b[32m    545\u001b[39m \u001b[38;5;28;01melse\u001b[39;00m:\n\u001b[32m    546\u001b[39m     \u001b[38;5;28mself\u001b[39m._bbox_patch = \u001b[38;5;28;01mNone\u001b[39;00m\n",
      "\u001b[36mFile \u001b[39m\u001b[32m~/Development/Python/Squad Analysis/squad-analysis/squad-analysis/lib/python3.12/site-packages/matplotlib/patches.py:3947\u001b[39m, in \u001b[36mFancyBboxPatch.__init__\u001b[39m\u001b[34m(self, xy, width, height, boxstyle, mutation_scale, mutation_aspect, **kwargs)\u001b[39m\n\u001b[32m   3904\u001b[39m \u001b[38;5;129m@_docstring\u001b[39m.interpd\n\u001b[32m   3905\u001b[39m \u001b[38;5;28;01mdef\u001b[39;00m\u001b[38;5;250m \u001b[39m\u001b[34m__init__\u001b[39m(\u001b[38;5;28mself\u001b[39m, xy, width, height, boxstyle=\u001b[33m\"\u001b[39m\u001b[33mround\u001b[39m\u001b[33m\"\u001b[39m, *,\n\u001b[32m   3906\u001b[39m              mutation_scale=\u001b[32m1\u001b[39m, mutation_aspect=\u001b[32m1\u001b[39m, **kwargs):\n\u001b[32m   3907\u001b[39m \u001b[38;5;250m    \u001b[39m\u001b[33;03m\"\"\"\u001b[39;00m\n\u001b[32m   3908\u001b[39m \u001b[33;03m    Parameters\u001b[39;00m\n\u001b[32m   3909\u001b[39m \u001b[33;03m    ----------\u001b[39;00m\n\u001b[32m   (...)\u001b[39m\u001b[32m   3944\u001b[39m \u001b[33;03m    %(Patch:kwdoc)s\u001b[39;00m\n\u001b[32m   3945\u001b[39m \u001b[33;03m    \"\"\"\u001b[39;00m\n\u001b[32m-> \u001b[39m\u001b[32m3947\u001b[39m     \u001b[38;5;28;43msuper\u001b[39;49m\u001b[43m(\u001b[49m\u001b[43m)\u001b[49m\u001b[43m.\u001b[49m\u001b[34;43m__init__\u001b[39;49m\u001b[43m(\u001b[49m\u001b[43m*\u001b[49m\u001b[43m*\u001b[49m\u001b[43mkwargs\u001b[49m\u001b[43m)\u001b[49m\n\u001b[32m   3948\u001b[39m     \u001b[38;5;28mself\u001b[39m._x, \u001b[38;5;28mself\u001b[39m._y = xy\n\u001b[32m   3949\u001b[39m     \u001b[38;5;28mself\u001b[39m._width = width\n",
      "\u001b[36mFile \u001b[39m\u001b[32m~/Development/Python/Squad Analysis/squad-analysis/squad-analysis/lib/python3.12/site-packages/matplotlib/patches.py:99\u001b[39m, in \u001b[36mPatch.__init__\u001b[39m\u001b[34m(self, edgecolor, facecolor, color, linewidth, linestyle, antialiased, hatch, fill, capstyle, joinstyle, **kwargs)\u001b[39m\n\u001b[32m     96\u001b[39m \u001b[38;5;28mself\u001b[39m.set_joinstyle(joinstyle)\n\u001b[32m     98\u001b[39m \u001b[38;5;28;01mif\u001b[39;00m \u001b[38;5;28mlen\u001b[39m(kwargs):\n\u001b[32m---> \u001b[39m\u001b[32m99\u001b[39m     \u001b[38;5;28;43mself\u001b[39;49m\u001b[43m.\u001b[49m\u001b[43m_internal_update\u001b[49m\u001b[43m(\u001b[49m\u001b[43mkwargs\u001b[49m\u001b[43m)\u001b[49m\n",
      "\u001b[36mFile \u001b[39m\u001b[32m~/Development/Python/Squad Analysis/squad-analysis/squad-analysis/lib/python3.12/site-packages/matplotlib/artist.py:1233\u001b[39m, in \u001b[36mArtist._internal_update\u001b[39m\u001b[34m(self, kwargs)\u001b[39m\n\u001b[32m   1226\u001b[39m \u001b[38;5;28;01mdef\u001b[39;00m\u001b[38;5;250m \u001b[39m\u001b[34m_internal_update\u001b[39m(\u001b[38;5;28mself\u001b[39m, kwargs):\n\u001b[32m   1227\u001b[39m \u001b[38;5;250m    \u001b[39m\u001b[33;03m\"\"\"\u001b[39;00m\n\u001b[32m   1228\u001b[39m \u001b[33;03m    Update artist properties without prenormalizing them, but generating\u001b[39;00m\n\u001b[32m   1229\u001b[39m \u001b[33;03m    errors as if calling `set`.\u001b[39;00m\n\u001b[32m   1230\u001b[39m \n\u001b[32m   1231\u001b[39m \u001b[33;03m    The lack of prenormalization is to maintain backcompatibility.\u001b[39;00m\n\u001b[32m   1232\u001b[39m \u001b[33;03m    \"\"\"\u001b[39;00m\n\u001b[32m-> \u001b[39m\u001b[32m1233\u001b[39m     \u001b[38;5;28;01mreturn\u001b[39;00m \u001b[38;5;28;43mself\u001b[39;49m\u001b[43m.\u001b[49m\u001b[43m_update_props\u001b[49m\u001b[43m(\u001b[49m\n\u001b[32m   1234\u001b[39m \u001b[43m        \u001b[49m\u001b[43mkwargs\u001b[49m\u001b[43m,\u001b[49m\u001b[43m \u001b[49m\u001b[33;43m\"\u001b[39;49m\u001b[38;5;132;43;01m{cls.__name__}\u001b[39;49;00m\u001b[33;43m.set() got an unexpected keyword argument \u001b[39;49m\u001b[33;43m\"\u001b[39;49m\n\u001b[32m   1235\u001b[39m \u001b[43m        \u001b[49m\u001b[33;43m\"\u001b[39;49m\u001b[38;5;132;43;01m{prop_name!r}\u001b[39;49;00m\u001b[33;43m\"\u001b[39;49m\u001b[43m)\u001b[49m\n",
      "\u001b[36mFile \u001b[39m\u001b[32m~/Development/Python/Squad Analysis/squad-analysis/squad-analysis/lib/python3.12/site-packages/matplotlib/artist.py:1206\u001b[39m, in \u001b[36mArtist._update_props\u001b[39m\u001b[34m(self, props, errfmt)\u001b[39m\n\u001b[32m   1204\u001b[39m             func = \u001b[38;5;28mgetattr\u001b[39m(\u001b[38;5;28mself\u001b[39m, \u001b[33mf\u001b[39m\u001b[33m\"\u001b[39m\u001b[33mset_\u001b[39m\u001b[38;5;132;01m{\u001b[39;00mk\u001b[38;5;132;01m}\u001b[39;00m\u001b[33m\"\u001b[39m, \u001b[38;5;28;01mNone\u001b[39;00m)\n\u001b[32m   1205\u001b[39m             \u001b[38;5;28;01mif\u001b[39;00m \u001b[38;5;129;01mnot\u001b[39;00m \u001b[38;5;28mcallable\u001b[39m(func):\n\u001b[32m-> \u001b[39m\u001b[32m1206\u001b[39m                 \u001b[38;5;28;01mraise\u001b[39;00m \u001b[38;5;167;01mAttributeError\u001b[39;00m(\n\u001b[32m   1207\u001b[39m                     errfmt.format(\u001b[38;5;28mcls\u001b[39m=\u001b[38;5;28mtype\u001b[39m(\u001b[38;5;28mself\u001b[39m), prop_name=k),\n\u001b[32m   1208\u001b[39m                     name=k)\n\u001b[32m   1209\u001b[39m             ret.append(func(v))\n\u001b[32m   1210\u001b[39m \u001b[38;5;28;01mif\u001b[39;00m ret:\n",
      "\u001b[31mAttributeError\u001b[39m: FancyBboxPatch.set() got an unexpected keyword argument 'ha'"
     ]
    },
    {
     "data": {
      "image/png": "[encoded data removed]",
      "text/plain": [
       "<Figure size 400x600 with 3 Axes>"
      ]
     },
     "metadata": {},
     "output_type": "display_data"
    }
   ],
   "source": [
    "fig = plt.figure(figsize=(4,6))\n",
    "fig.patch.set_facecolor(colours[\"cl_background\"])\n",
    "\n",
    "# Add axis for header section, key and pitch\n",
    "ax1 = fig.add_axes([0, 0.85, 1, .15])\n",
    "ax2 = fig.add_axes([0, 0.15, 1, .7])\n",
    "ax3 = fig.add_axes([0, 0, 1, .15])\n",
    "\n",
    "pitch.draw(ax=ax2)\n",
    "\n",
    "for row in pitch.formations_dataframe[pitch.formations_dataframe[\"formation\"]==formation].iterrows():\n",
    "    ax2.text(\n",
    "            x=row[1][\"y\"],\n",
    "            y=row[1][\"x\"],\n",
    "            s=row[1][\"name\"],\n",
    "            bbox=dict(boxstyle=\"round\", fc=colours[\"cl_alt_1\"], color=colours[\"cl_foreground\"],\n",
    "            ),\n",
    "            ha='center'\n",
    "        )\n",
    "\n",
    "ax_scatter = pitch.formation(formation, kind='scatter', c=colours[\"cl_alt_3\"], ax=ax2)"
   ]
  }
 ],
 "metadata": {
  "kernelspec": {
   "display_name": "squad-analysis",
   "language": "python",
   "name": "python3"
  },
  "language_info": {
   "codemirror_mode": {
    "name": "ipython",
    "version": 3
   },
   "file_extension": ".py",
   "mimetype": "text/x-python",
   "name": "python",
   "nbconvert_exporter": "python",
   "pygments_lexer": "ipython3",
   "version": "3.12.3"
  }
 },
 "nbformat": 4,
 "nbformat_minor": 5
}
