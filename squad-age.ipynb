{
 "cells": [
  {
   "cell_type": "code",
   "execution_count": 1,
   "id": "65dd9a08",
   "metadata": {},
   "outputs": [],
   "source": [
    "# import required packages-\n",
    "\n",
    "import pandas as pd\n",
    "import datetime\n",
    "import matplotlib.pyplot as plt\n",
    "import matplotlib.font_manager as fnt\n",
    "from mplsoccer import VerticalPitch"
   ]
  },
  {
   "cell_type": "code",
   "execution_count": 2,
   "id": "db4f2bea",
   "metadata": {},
   "outputs": [],
   "source": [
    "# Set input paramaters such as titles, colours and squad file.abs\n",
    "\n",
    "team_name = \"Aberdeen\"\n",
    "\n",
    "season_start = 2025\n",
    "\n",
    "squadfile = 'aberdeen.csv'\n",
    "\n",
    "colours = {\n",
    "    \"cl_background\":\"#000000\",\n",
    "    \"cl_foreground\":\"#FFFFFF\",\n",
    "    \"cl_secondary\":\"#999999\",\n",
    "    \"cl_alt_1\":\"#d61f34\",\n",
    "    \"cl_alt_2\":\"#3A86FF\",\n",
    "    \"cl_alt_3\":\"#FFBE0B\",\n",
    "    \"cl_alt_4\":\"#3EC300\",\n",
    "    \"cl_alt_5\":\"#595959\"}\n",
    "\n",
    "\n",
    "title = \"Squad age distribution for \" + team_name + \" season starting \" + str(season_start) \n",
    "subtitle = \"On basis of current date: \" + datetime.datetime.now().strftime(\"%d/%m/%Y\") \n",
    "\n",
    "# Set Fonts\n",
    "title_font = fnt.FontProperties(family=\"P052\")\n",
    "body_font = fnt.FontProperties(family=\"URW Gothic\")"
   ]
  },
  {
   "cell_type": "code",
   "execution_count": 3,
   "id": "f0982a48",
   "metadata": {},
   "outputs": [],
   "source": [
    "def calculate_age(born, season_start):\n",
    "    born_date = pd.to_datetime(born)\n",
    "    start_date = datetime.datetime(season_start, 8,1)\n",
    "    age = start_date.year - born_date.year - ((start_date.month, start_date.day) < (born_date.month, born_date.day))\n",
    "    return age"
   ]
  },
  {
   "cell_type": "code",
   "execution_count": null,
   "id": "9ea07444",
   "metadata": {},
   "outputs": [
    {
     "ename": "AttributeError",
     "evalue": "'Series' object has no attribute 'year'",
     "output_type": "error",
     "traceback": [
      "\u001b[31m---------------------------------------------------------------------------\u001b[39m",
      "\u001b[31mAttributeError\u001b[39m                            Traceback (most recent call last)",
      "\u001b[32m/tmp/ipykernel_6577/2532757992.py\u001b[39m in \u001b[36m?\u001b[39m\u001b[34m()\u001b[39m\n\u001b[32m      1\u001b[39m \u001b[38;5;66;03m# read in and dispaly header of csv files to check.\u001b[39;00m\n\u001b[32m      2\u001b[39m squad = pd.read_csv(squadfile)\n\u001b[32m----> \u001b[39m\u001b[32m3\u001b[39m squad[\u001b[33m\"Age\"\u001b[39m] = calculate_age(squad[\u001b[33m\"Date of Birth\"\u001b[39m],season_start)\n\u001b[32m      4\u001b[39m squad.head()\n",
      "\u001b[32m/tmp/ipykernel_6577/3253314947.py\u001b[39m in \u001b[36m?\u001b[39m\u001b[34m(born, season_start)\u001b[39m\n\u001b[32m      1\u001b[39m \u001b[38;5;28;01mdef\u001b[39;00m calculate_age(born, season_start):\n\u001b[32m      2\u001b[39m     born_date = pd.to_datetime(born)\n\u001b[32m      3\u001b[39m     start_date = datetime.datetime(season_start, \u001b[32m8\u001b[39m,\u001b[32m1\u001b[39m)\n\u001b[32m----> \u001b[39m\u001b[32m4\u001b[39m     age = start_date.year - born_date.year - ((start_date.month, start_date.day) < (born_date.month, born_date.day))\n\u001b[32m      5\u001b[39m     \u001b[38;5;28;01mreturn\u001b[39;00m age\n",
      "\u001b[32m~/development/squad-analysis/squad-analysis/lib/python3.12/site-packages/pandas/core/generic.py\u001b[39m in \u001b[36m?\u001b[39m\u001b[34m(self, name)\u001b[39m\n\u001b[32m   6295\u001b[39m             \u001b[38;5;28;01mand\u001b[39;00m name \u001b[38;5;28;01mnot\u001b[39;00m \u001b[38;5;28;01min\u001b[39;00m self._accessors\n\u001b[32m   6296\u001b[39m             \u001b[38;5;28;01mand\u001b[39;00m self._info_axis._can_hold_identifiers_and_holds_name(name)\n\u001b[32m   6297\u001b[39m         ):\n\u001b[32m   6298\u001b[39m             \u001b[38;5;28;01mreturn\u001b[39;00m self[name]\n\u001b[32m-> \u001b[39m\u001b[32m6299\u001b[39m         \u001b[38;5;28;01mreturn\u001b[39;00m object.__getattribute__(self, name)\n",
      "\u001b[31mAttributeError\u001b[39m: 'Series' object has no attribute 'year'"
     ]
    }
   ],
   "source": [
    "# read in and dispaly header of csv files to check.\n",
    "squad = pd.read_csv(squadfile)\n",
    "#squad[\"Age\"] = calculate_age(squad[\"Date of Birth\"],season_start)\n",
    "squad.head()\n"
   ]
  },
  {
   "cell_type": "code",
   "execution_count": null,
   "id": "75808411",
   "metadata": {},
   "outputs": [],
   "source": []
  }
 ],
 "metadata": {
  "kernelspec": {
   "display_name": "squad-analysis",
   "language": "python",
   "name": "python3"
  },
  "language_info": {
   "codemirror_mode": {
    "name": "ipython",
    "version": 3
   },
   "file_extension": ".py",
   "mimetype": "text/x-python",
   "name": "python",
   "nbconvert_exporter": "python",
   "pygments_lexer": "ipython3",
   "version": "3.12.3"
  }
 },
 "nbformat": 4,
 "nbformat_minor": 5
}
